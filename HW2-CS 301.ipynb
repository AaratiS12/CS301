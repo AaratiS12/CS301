{
 "cells": [
  {
   "cell_type": "code",
   "execution_count": 18,
   "metadata": {},
   "outputs": [],
   "source": [
    "#Author: Aarati Srikumar\n",
    "#Date: 20200210\n",
    "#CS301: Professor Watson\n",
    "#HW 2 Solution\n",
    "#https://github.com/AaratiS12/CS301\n",
    "#https://github.com/AaratiS12/CS301/commit/d792d4fbc4793759a42733bd6be277bf4cf65c55\n",
    "#master\n"
   ]
  },
  {
   "cell_type": "code",
   "execution_count": 19,
   "metadata": {},
   "outputs": [],
   "source": [
    "import numpy as np"
   ]
  },
  {
   "cell_type": "code",
   "execution_count": 47,
   "metadata": {},
   "outputs": [
    {
     "name": "stdout",
     "output_type": "stream",
     "text": [
      "The following are outliers: \n",
      "[]\n",
      "{'min': 1, 'q1': 1.5, 'q2': 2.0, 'q3': 2.5, 'max': 3}\n"
     ]
    }
   ],
   "source": [
    "def q_summary_V1 (arr):\n",
    "    dicts = {}\n",
    "    dicts[\"min\"] = min(arr)\n",
    "    \n",
    "    dicts[\"q1\"] = np.quantile(arr, .25)\n",
    "    dicts[\"q2\"] = np.quantile(arr, .5)\n",
    "    dicts[\"q3\"] = np.quantile(arr, .75)\n",
    "    dicts[\"max\"] = max(arr)\n",
    "    IQR = dicts[\"q3\"] - dicts[\"q1\"]\n",
    "    outlier_low = dicts[\"q1\"] - IQR\n",
    "    outlier_high = dicts[\"q3\"] + IQR\n",
    "    outlier = []\n",
    "    for number in arr:\n",
    "        if number > outlier_high or number < outlier_low:\n",
    "            outlier.append(number)\n",
    "    print(\"The following are outliers: \")\n",
    "    print(outlier)\n",
    "    return dicts\n",
    "arr = [1,2,3]\n",
    "print(q_summary_V1(arr))"
   ]
  },
  {
   "cell_type": "code",
   "execution_count": null,
   "metadata": {},
   "outputs": [],
   "source": []
  }
 ],
 "metadata": {
  "kernelspec": {
   "display_name": "Python 3",
   "language": "python",
   "name": "python3"
  },
  "language_info": {
   "codemirror_mode": {
    "name": "ipython",
    "version": 3
   },
   "file_extension": ".py",
   "mimetype": "text/x-python",
   "name": "python",
   "nbconvert_exporter": "python",
   "pygments_lexer": "ipython3",
   "version": "3.7.5"
  }
 },
 "nbformat": 4,
 "nbformat_minor": 2
}
